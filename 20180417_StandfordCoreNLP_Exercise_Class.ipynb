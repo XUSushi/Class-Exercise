{
 "cells": [
  {
   "cell_type": "code",
   "execution_count": 1,
   "metadata": {
    "collapsed": true
   },
   "outputs": [],
   "source": [
    "#coding: utf-8\n",
    "\n",
    "# 引入库\n",
    "\n",
    "from stanfordcorenlp import StanfordCoreNLP\n",
    "\n",
    "# 用与英文处理的客户实例\n",
    "\n",
    "nlp_en = StanfordCoreNLP('http://127.0.0.1', port=2002)   # 请个修改为自己的ip地址和端口号\n",
    "\n",
    "# 用与中文处理的客户实例\n",
    "\n",
    "nlp_cn = StanfordCoreNLP('http://127.0.0.1', port=2003)   # 请个修改为自己的ip地址和端口号\n",
    "\n",
    "en_txt = \"There are more public options, too. For example, in 2013, Chinese state media accused Jaguar Land Rover and Audi of overcharging buyers for car parts, which analysts viewed as part of a campaign to pressure those automakers to locate more manufacturing in China.\"\n",
    "\n",
    "cn_txt = \"还有更多的公开选择。比如，2013年，中国官方媒体指责捷豹路虎(Jaguar Land Rover)和奥迪(Audi)对汽车零部件的买家要价过高。分析师认为，那是在向这些汽车制造商施压，让它们把更多的制造工作搬到中国去。\""
   ]
  },
  {
   "cell_type": "code",
   "execution_count": 2,
   "metadata": {
    "collapsed": false
   },
   "outputs": [
    {
     "data": {
      "text/plain": [
       "['There',\n",
       " 'are',\n",
       " 'more',\n",
       " 'public',\n",
       " 'options',\n",
       " ',',\n",
       " 'too',\n",
       " '.',\n",
       " 'For',\n",
       " 'example',\n",
       " ',',\n",
       " 'in',\n",
       " '2013',\n",
       " ',',\n",
       " 'Chinese',\n",
       " 'state',\n",
       " 'media',\n",
       " 'accused',\n",
       " 'Jaguar',\n",
       " 'Land',\n",
       " 'Rover',\n",
       " 'and',\n",
       " 'Audi',\n",
       " 'of',\n",
       " 'overcharging',\n",
       " 'buyers',\n",
       " 'for',\n",
       " 'car',\n",
       " 'parts',\n",
       " ',',\n",
       " 'which',\n",
       " 'analysts',\n",
       " 'viewed',\n",
       " 'as',\n",
       " 'part',\n",
       " 'of',\n",
       " 'a',\n",
       " 'campaign',\n",
       " 'to',\n",
       " 'pressure',\n",
       " 'those',\n",
       " 'automakers',\n",
       " 'to',\n",
       " 'locate',\n",
       " 'more',\n",
       " 'manufacturing',\n",
       " 'in',\n",
       " 'China',\n",
       " '.']"
      ]
     },
     "execution_count": 2,
     "metadata": {},
     "output_type": "execute_result"
    }
   ],
   "source": [
    "nlp_en.word_tokenize(en_txt)"
   ]
  },
  {
   "cell_type": "code",
   "execution_count": 4,
   "metadata": {
    "collapsed": false
   },
   "outputs": [
    {
     "data": {
      "text/plain": [
       "['还有更多的公开选择',\n",
       " '。',\n",
       " '比如',\n",
       " '，',\n",
       " '2013年',\n",
       " '，',\n",
       " '中国官方媒体指责捷豹路虎',\n",
       " '-LRB-',\n",
       " 'Jaguar',\n",
       " 'Land',\n",
       " 'Rover',\n",
       " '-RRB-',\n",
       " '和奥迪',\n",
       " '-LRB-',\n",
       " 'Audi',\n",
       " '-RRB-',\n",
       " '对汽车零部件的买家要价过高',\n",
       " '。',\n",
       " '分析师认为',\n",
       " '，',\n",
       " '那是在向这些汽车制造商施压',\n",
       " '，',\n",
       " '让它们把更多的制造工作搬到中国去',\n",
       " '。']"
      ]
     },
     "execution_count": 4,
     "metadata": {},
     "output_type": "execute_result"
    }
   ],
   "source": [
    "nlp_en.word_tokenize(cn_txt)"
   ]
  },
  {
   "cell_type": "code",
   "execution_count": 5,
   "metadata": {
    "collapsed": false
   },
   "outputs": [
    {
     "data": {
      "text/plain": [
       "[('There', 'EX'),\n",
       " ('are', 'VBP'),\n",
       " ('more', 'RBR'),\n",
       " ('public', 'JJ'),\n",
       " ('options', 'NNS'),\n",
       " (',', ','),\n",
       " ('too', 'RB'),\n",
       " ('.', '.'),\n",
       " ('For', 'IN'),\n",
       " ('example', 'NN'),\n",
       " (',', ','),\n",
       " ('in', 'IN'),\n",
       " ('2013', 'CD'),\n",
       " (',', ','),\n",
       " ('Chinese', 'JJ'),\n",
       " ('state', 'NN'),\n",
       " ('media', 'NNS'),\n",
       " ('accused', 'VBD'),\n",
       " ('Jaguar', 'NNP'),\n",
       " ('Land', 'NNP'),\n",
       " ('Rover', 'NNP'),\n",
       " ('and', 'CC'),\n",
       " ('Audi', 'NNP'),\n",
       " ('of', 'IN'),\n",
       " ('overcharging', 'VBG'),\n",
       " ('buyers', 'NNS'),\n",
       " ('for', 'IN'),\n",
       " ('car', 'NN'),\n",
       " ('parts', 'NNS'),\n",
       " (',', ','),\n",
       " ('which', 'WDT'),\n",
       " ('analysts', 'NNS'),\n",
       " ('viewed', 'VBD'),\n",
       " ('as', 'IN'),\n",
       " ('part', 'NN'),\n",
       " ('of', 'IN'),\n",
       " ('a', 'DT'),\n",
       " ('campaign', 'NN'),\n",
       " ('to', 'TO'),\n",
       " ('pressure', 'VB'),\n",
       " ('those', 'DT'),\n",
       " ('automakers', 'NNS'),\n",
       " ('to', 'TO'),\n",
       " ('locate', 'VB'),\n",
       " ('more', 'JJR'),\n",
       " ('manufacturing', 'NN'),\n",
       " ('in', 'IN'),\n",
       " ('China', 'NNP'),\n",
       " ('.', '.')]"
      ]
     },
     "execution_count": 5,
     "metadata": {},
     "output_type": "execute_result"
    }
   ],
   "source": [
    "nlp_en.pos_tag(en_txt)"
   ]
  },
  {
   "cell_type": "code",
   "execution_count": 6,
   "metadata": {
    "collapsed": false
   },
   "outputs": [
    {
     "data": {
      "text/plain": [
       "[('还有更多的公开选择', 'CD'),\n",
       " ('。', 'CD'),\n",
       " ('比如', 'NN'),\n",
       " ('，', 'CD'),\n",
       " ('2013年', 'CD'),\n",
       " ('，', 'CD'),\n",
       " ('中国官方媒体指责捷豹路虎', 'NN'),\n",
       " ('-LRB-', '-LRB-'),\n",
       " ('Jaguar', 'NNP'),\n",
       " ('Land', 'NNP'),\n",
       " ('Rover', 'NNP'),\n",
       " ('-RRB-', '-RRB-'),\n",
       " ('和奥迪', 'CD'),\n",
       " ('-LRB-', '-LRB-'),\n",
       " ('Audi', 'NNP'),\n",
       " ('-RRB-', '-RRB-'),\n",
       " ('对汽车零部件的买家要价过高', 'CD'),\n",
       " ('。', 'CD'),\n",
       " ('分析师认为', 'CD'),\n",
       " ('，', 'NN'),\n",
       " ('那是在向这些汽车制造商施压', 'CD'),\n",
       " ('，', 'CD'),\n",
       " ('让它们把更多的制造工作搬到中国去', 'CD'),\n",
       " ('。', 'NN')]"
      ]
     },
     "execution_count": 6,
     "metadata": {},
     "output_type": "execute_result"
    }
   ],
   "source": [
    "nlp_en.pos_tag(cn_txt)"
   ]
  },
  {
   "cell_type": "code",
   "execution_count": null,
   "metadata": {
    "collapsed": true
   },
   "outputs": [],
   "source": []
  }
 ],
 "metadata": {
  "kernelspec": {
   "display_name": "Python [Root]",
   "language": "python",
   "name": "Python [Root]"
  },
  "language_info": {
   "codemirror_mode": {
    "name": "ipython",
    "version": 3
   },
   "file_extension": ".py",
   "mimetype": "text/x-python",
   "name": "python",
   "nbconvert_exporter": "python",
   "pygments_lexer": "ipython3",
   "version": "3.5.2"
  }
 },
 "nbformat": 4,
 "nbformat_minor": 0
}
